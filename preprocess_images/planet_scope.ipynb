{
 "cells": [
  {
   "cell_type": "code",
   "execution_count": 3,
   "metadata": {},
   "outputs": [],
   "source": [
    "import os\n",
    "import numpy as np\n",
    "import shutil\n",
    "import matplotlib.pyplot as plt\n",
    "from pathlib import Path\n",
    "from osgeo import gdal as gd"
   ]
  },
  {
   "cell_type": "code",
   "execution_count": 4,
   "metadata": {},
   "outputs": [],
   "source": [
    "########### Helper Functions ##############\n",
    "\n",
    "def is_analytic_image(file_name):\n",
    "    return \"Analytic\" in file_name and not file_name.endswith(\".xml\")\n",
    "\n",
    "def is_metadata(file_name):\n",
    "    return \"metadata\" in file_name\n",
    "\n",
    "def save_image(img, location):\n",
    "    img = plt.imshow(get_band_image(img, [2, 4, 6]), interpolation='lanczos')\n",
    "    plt.axis('off')\n",
    "    plt.savefig(location, dpi=200, bbox_inches='tight', pad_inches = 0)\n",
    "\n",
    "def normalize(array):\n",
    "    min_value, max_value = array.min(), array.max()\n",
    "    return (array - min_value) / (max_value - min_value)\n",
    "\n",
    "def brighten(band, alpha=0.13, beta=0):\n",
    "    return np.clip(alpha*band+beta, 0,255)\n",
    "\n",
    "def gammacorr(band, gamma=2):\n",
    "    return np.power(band, 1/gamma)\n",
    "\n",
    "def get_band_array(img, band):\n",
    "    rasterband = img.GetRasterBand(band)\n",
    "    array = rasterband.ReadAsArray()\n",
    "    return normalize(brighten(gammacorr(array)))\n",
    "\n",
    "def get_band_image(img, band_indices):\n",
    "    band_arrays = [get_band_array(img, band_index) for band_index in band_indices]\n",
    "    return np.dstack(band_arrays)"
   ]
  },
  {
   "cell_type": "code",
   "execution_count": null,
   "metadata": {},
   "outputs": [],
   "source": [
    "########### Core Functions ##############\n",
    "\n",
    "def collect_planetscope_data():\n",
    "    # Set source and target directories\n",
    "    source_dir = Path('../images/planet_scope/2022')\n",
    "    target_dir = Path('../preprocess_images/temp')\n",
    "    \n",
    "    # Walk through the source directory\n",
    "    for root, _, files in os.walk(source_dir):\n",
    "        for file in files:\n",
    "            curr_file = os.path.join(root, file)\n",
    "            new_dir = target_dir / Path(root).name\n",
    "            new_dir.mkdir(parents=True, exist_ok=True)\n",
    "            \n",
    "            # Process and save analytic image data and RGB plot\n",
    "            if is_analytic_image(file):\n",
    "                # Open the image and get image data\n",
    "                image_data = gd.Open(Path(curr_file).as_posix(), gd.GA_ReadOnly)\n",
    "\n",
    "                # Get only RGB bands and save plot\n",
    "                image = get_band_image(image_data, [2, 4, 6])\n",
    "                plt.imshow(image)\n",
    "                save_image(image_data, new_dir / \"plot.png\")\n",
    "\n",
    "                # Get all bands and save the data as a numpy array\n",
    "                data = get_band_image(image_data, [1, 2, 3, 4, 5, 6, 7, 8])\n",
    "                np.save(new_dir / \"data.npy\", data)\n",
    "\n",
    "            # Copy metadata file to the target directory\n",
    "            elif is_metadata(file):\n",
    "                new_file = new_dir / \"metadata.json\"\n",
    "                shutil.copyfile(curr_file, new_file)"
   ]
  },
  {
   "cell_type": "code",
   "execution_count": 5,
   "metadata": {},
   "outputs": [],
   "source": [
    "collect_planetscope_data()"
   ]
  }
 ],
 "metadata": {
  "kernelspec": {
   "display_name": "Python 3",
   "language": "python",
   "name": "python3"
  },
  "language_info": {
   "codemirror_mode": {
    "name": "ipython",
    "version": 3
   },
   "file_extension": ".py",
   "mimetype": "text/x-python",
   "name": "python",
   "nbconvert_exporter": "python",
   "pygments_lexer": "ipython3",
   "version": "3.10.10"
  },
  "orig_nbformat": 4
 },
 "nbformat": 4,
 "nbformat_minor": 2
}
