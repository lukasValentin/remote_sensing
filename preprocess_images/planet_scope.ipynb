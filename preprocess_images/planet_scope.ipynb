{
 "cells": [
  {
   "cell_type": "code",
   "execution_count": 188,
   "metadata": {},
   "outputs": [],
   "source": [
    "import os\n",
    "import numpy as np\n",
    "import shutil\n",
    "\n",
    "import matplotlib.pyplot as plt\n",
    "\n",
    "from pathlib import Path\n",
    "from osgeo import gdal as gd, gdalnumeric as gdn"
   ]
  },
  {
   "cell_type": "code",
   "execution_count": 189,
   "metadata": {},
   "outputs": [],
   "source": [
    "# Functions for data processing\n",
    "\n",
    "def is_analytic_image(file_name):\n",
    "    return \"Analytic\" in file_name and not file_name.endswith(\".xml\")\n",
    "\n",
    "def is_metadata(file_name):\n",
    "    return \"metadata\" in file_name\n",
    "\n",
    "def save_image(img, location):\n",
    "    img = plt.imshow(get_band_image(img, [2, 4, 6]), interpolation='lanczos')\n",
    "    plt.axis('off')\n",
    "    plt.savefig(location, dpi=200, bbox_inches='tight', pad_inches = 0)\n",
    "\n",
    "# Functions for image visualization\n",
    "\n",
    "def normalize(array):\n",
    "    min_value, max_value = array.min(), array.max()\n",
    "    return (array - min_value) / (max_value - min_value)\n",
    "\n",
    "def brighten(band, alpha=0.13, beta=0):\n",
    "    return np.clip(alpha*band+beta, 0,255)\n",
    "\n",
    "def gammacorr(band, gamma=2):\n",
    "    return np.power(band, 1/gamma)\n",
    "\n",
    "def get_band_array(img, band):\n",
    "    rasterband = img.GetRasterBand(band)\n",
    "    array = rasterband.ReadAsArray()\n",
    "    return normalize(brighten(gammacorr(array)))\n",
    "\n",
    "def get_band_image(img, band_indices):\n",
    "    band_arrays = [get_band_array(img, band_index) for band_index in band_indices]\n",
    "    return np.dstack(band_arrays)"
   ]
  },
  {
   "cell_type": "code",
   "execution_count": 190,
   "metadata": {},
   "outputs": [],
   "source": [
    "def collect_planetscope_data():\n",
    "    source_dir = Path('../images/planet_scope/2022')\n",
    "    target_dir = Path('../preprocess_images/temp')\n",
    "    \n",
    "    for root, _, files in os.walk(source_dir):\n",
    "        for file in files:\n",
    "            curr_file = os.path.join(root, file)\n",
    "            new_dir = target_dir / Path(root).name\n",
    "            new_dir.mkdir(parents=True, exist_ok=True)\n",
    "            \n",
    "            if is_analytic_image(file):\n",
    "                new_dir.mkdir(parents=True, exist_ok=True)\n",
    "                image_data = gd.Open(Path(curr_file).as_posix(), gd.GA_ReadOnly)\n",
    "\n",
    "                image = get_band_image(image_data, [2, 4, 6])\n",
    "                plt.imshow(image)\n",
    "                new_image = new_dir / \"plot.png\"\n",
    "                plt.savefig(new_image, dpi=200, bbox_inches='tight', pad_inches=0)\n",
    "                save_image(image_data, new_dir / \"plot.png\")\n",
    "\n",
    "                data = get_band_image(image_data, [1, 2, 3, 4, 5, 6, 7, 8])\n",
    "                np.save(new_dir / \"data.npy\", data)\n",
    "\n",
    "            elif is_metadata(file):\n",
    "                new_file = new_dir / \"metadata.json\"\n",
    "                shutil.copyfile(curr_file, new_file)\n",
    "\n",
    "collect_planetscope_data()"
   ]
  },
  {
   "cell_type": "code",
   "execution_count": null,
   "metadata": {},
   "outputs": [],
   "source": []
  }
 ],
 "metadata": {
  "kernelspec": {
   "display_name": "Python 3",
   "language": "python",
   "name": "python3"
  },
  "language_info": {
   "codemirror_mode": {
    "name": "ipython",
    "version": 3
   },
   "file_extension": ".py",
   "mimetype": "text/x-python",
   "name": "python",
   "nbconvert_exporter": "python",
   "pygments_lexer": "ipython3",
   "version": "3.10.10"
  },
  "orig_nbformat": 4
 },
 "nbformat": 4,
 "nbformat_minor": 2
}
