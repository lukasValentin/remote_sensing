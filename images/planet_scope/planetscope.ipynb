{
 "cells": [
  {
   "cell_type": "code",
   "execution_count": 1,
   "metadata": {},
   "outputs": [],
   "source": [
    "# Based on \"scripts/planet_download.py\" from eodal repo\n",
    "\n",
    "from eodal.downloader.planet_scope import PlanetAPIClient\n",
    "from eodal.config import get_settings\n",
    "from pathlib import Path\n",
    "from datetime import date"
   ]
  },
  {
   "cell_type": "code",
   "execution_count": 2,
   "metadata": {},
   "outputs": [],
   "source": [
    "settings = get_settings()\n",
    "settings.USE_STAC = True"
   ]
  },
  {
   "cell_type": "code",
   "execution_count": 3,
   "metadata": {},
   "outputs": [],
   "source": [
    "start_date = date(2023,1,1)\n",
    "end_date = date(2023,3,21)\n",
    "order_name = f'{date.today()}_Julian_ZH_Polygon_Witzwil'\n",
    "cloud_cover = 50."
   ]
  },
  {
   "cell_type": "code",
   "execution_count": 4,
   "metadata": {},
   "outputs": [],
   "source": [
    "client = PlanetAPIClient.query_planet_api(\n",
    "    start_date=start_date,\n",
    "    end_date=end_date,\n",
    "    bounding_box=Path('../coordinates/test_coordinates.geojson'),\n",
    "    cloud_cover_threshold=cloud_cover\n",
    ")"
   ]
  },
  {
   "cell_type": "code",
   "execution_count": null,
   "metadata": {},
   "outputs": [],
   "source": [
    "order_url = client.place_order(order_name=order_name)\n",
    "# processing tools"
   ]
  },
  {
   "cell_type": "code",
   "execution_count": null,
   "metadata": {},
   "outputs": [],
   "source": [
    "client.check_order_status(order_url, loop=True)"
   ]
  },
  {
   "cell_type": "code",
   "execution_count": null,
   "metadata": {},
   "outputs": [],
   "source": [
    "download_dir = Path('downloaded_images/')\n",
    "client.download_order(\n",
    "    download_dir=download_dir,\n",
    "    order_name=order_name,\n",
    "    order_url=order_url\n",
    ")"
   ]
  },
  {
   "cell_type": "code",
   "execution_count": null,
   "metadata": {},
   "outputs": [],
   "source": []
  }
 ],
 "metadata": {
  "kernelspec": {
   "display_name": "Python 3",
   "language": "python",
   "name": "python3"
  },
  "language_info": {
   "codemirror_mode": {
    "name": "ipython",
    "version": 3
   },
   "file_extension": ".py",
   "mimetype": "text/x-python",
   "name": "python",
   "nbconvert_exporter": "python",
   "pygments_lexer": "ipython3",
   "version": "3.10.10"
  },
  "orig_nbformat": 4,
  "vscode": {
   "interpreter": {
    "hash": "1008137c9f4849d5b92bd1af9c25f8df25401862cbdc70b91442f4a826b7c98e"
   }
  }
 },
 "nbformat": 4,
 "nbformat_minor": 2
}
