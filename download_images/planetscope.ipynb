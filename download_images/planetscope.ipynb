{
 "cells": [
  {
   "cell_type": "code",
   "execution_count": 21,
   "metadata": {},
   "outputs": [],
   "source": [
    "# Based on \"scripts/planet_download.py\" from eodal repo\n",
    "\n",
    "from eodal.downloader.planet_scope import PlanetAPIClient\n",
    "from eodal.config import get_settings\n",
    "from pathlib import Path\n",
    "from datetime import date\n",
    "\n",
    "!set USE_STAC = True"
   ]
  },
  {
   "cell_type": "code",
   "execution_count": 26,
   "metadata": {},
   "outputs": [],
   "source": [
    "settings = get_settings()\n",
    "settings.USE_STAC = True"
   ]
  },
  {
   "cell_type": "code",
   "execution_count": 23,
   "metadata": {},
   "outputs": [],
   "source": [
    "start_date = date(2023,1,1)\n",
    "end_date = date(2023,3,21)\n",
    "bounding_box = Path('../bounding_boxes/Witzwil_Bounding_Box/Witzwil_Bounding_Box.shp')\n",
    "order_name = f'{date.today()}_Julian_ZH_Polygon_Witzwil'\n",
    "cloud_cover = 50."
   ]
  },
  {
   "cell_type": "code",
   "execution_count": 24,
   "metadata": {},
   "outputs": [],
   "source": [
    "client = PlanetAPIClient.query_planet_api(\n",
    "    start_date=start_date,\n",
    "    end_date=end_date,\n",
    "    bounding_box=bounding_box,\n",
    "    cloud_cover_threshold=cloud_cover\n",
    ")"
   ]
  },
  {
   "cell_type": "code",
   "execution_count": 25,
   "metadata": {},
   "outputs": [
    {
     "ename": "APIError",
     "evalue": "[HTTP:400]: Placing order faild: b'{\"field\":{\"Details\":[{\"message\":\"No access to assets: PSScene/20230320_092653_18_241d/[ortho_analytic_8b_sr ortho_analytic_8b_xml ortho_udm2]\"},{\"message\":\"No access to assets: PSScene/20230320_092650_95_241d/[ortho_analytic_8b_sr ortho_analytic_8b_xml ortho_udm2]\"},{\"message\":\"No access to assets: PSScene/20230318_100613_58_247a/[ortho_analytic_8b_sr ortho_analytic_8b_xml ortho_udm2]\"},{\"message\":\"No access to assets: PSScene/20230318_100615_79_247a/[ortho_analytic_8b_sr ortho_analytic_8b_xml ortho_udm2]\"},{\"message\":\"No access to assets: PSScene/20230318_100828_06_2475/[ortho_analytic_8b_sr ortho_analytic_8b_xml ortho_udm2]\"},{\"message\":\"No access to assets: PSScene/20230318_100825_81_2475/[ortho_analytic_8b_sr ortho_analytic_8b_xml ortho_udm2]\"},{\"message\":\"No access to assets: PSScene/20230317_100337_88_2461/[ortho_analytic_8b_sr ortho_analytic_8b_xml ortho_udm2]\"},{\"message\":\"No access to assets: PSScene/20230316_100544_11_2438/[ortho_analytic_8b_sr ortho_analytic_8b_xml ortho_udm2]\"},{\"message\":\"No access to assets: PSScene/20230316_092858_57_2439/[ortho_analytic_8b_sr ortho_analytic_8b_xml ortho_udm2]\"},{\"message\":\"No access to assets: PSScene/20230315_093023_17_2429/[ortho_analytic_8b_sr ortho_analytic_8b_xml ortho_udm2]\"},{\"message\":\"No access to assets: PSScene/20230315_093025_35_2429/[ortho_analytic_8b_sr ortho_analytic_8b_xml ortho_udm2]\"},{\"message\":\"No access to assets: PSScene/20230313_101608_68_2414/[ortho_analytic_8b_sr ortho_analytic_8b_xml ortho_udm2]\"},{\"message\":\"No access to assets: PSScene/20230313_101610_74_2414/[ortho_analytic_8b_sr ortho_analytic_8b_xml ortho_udm2]\"},{\"message\":\"No access to assets: PSScene/20230307_092527_15_2451/[ortho_analytic_8b_sr ortho_analytic_8b_xml ortho_udm2]\"},{\"message\":\"No access to assets: PSScene/20230306_100709_73_24a3/[ortho_analytic_8b_sr ortho_analytic_8b_xml ortho_udm2]\"},{\"message\":\"No access to assets: PSScene/20230306_100711_93_24a3/[ortho_analytic_8b_sr ortho_analytic_8b_xml ortho_udm2]\"},{\"message\":\"No access to assets: PSScene/20230305_102354_85_2413/[ortho_analytic_8b_sr ortho_analytic_8b_xml ortho_udm2]\"},{\"message\":\"No access to assets: PSScene/20230304_100448_52_2485/[ortho_analytic_8b_sr ortho_analytic_8b_xml ortho_udm2]\"},{\"message\":\"No access to assets: PSScene/20230304_100450_73_2485/[ortho_analytic_8b_sr ortho_analytic_8b_xml ortho_udm2]\"},{\"message\":\"No access to assets: PSScene/20230304_095145_28_2251/[ortho_analytic_8b_sr ortho_analytic_8b_xml ortho_udm2]\"},{\"message\":\"No access to assets: PSScene/20230304_095143_24_2251/[ortho_analytic_8b_sr ortho_analytic_8b_xml ortho_udm2]\"},{\"message\":\"No access to assets: PSScene/20230219_101142_24_2424/[ortho_analytic_8b_sr ortho_analytic_8b_xml ortho_udm2]\"},{\"message\":\"No access to assets: PSScene/20230220_100552_38_2492/[ortho_analytic_8b_sr ortho_analytic_8b_xml ortho_udm2]\"},{\"message\":\"No access to assets: PSScene/20230220_100550_10_2492/[ortho_analytic_8b_sr ortho_analytic_8b_xml ortho_udm2]\"},{\"message\":\"No access to assets: PSScene/20230218_092733_88_2431/[ortho_analytic_8b_sr ortho_analytic_8b_xml ortho_udm2]\"},{\"message\":\"No access to assets: PSScene/20230216_100338_36_2482/[ortho_analytic_8b_sr ortho_analytic_8b_xml ortho_udm2]\"},{\"message\":\"No access to assets: PSScene/20230216_100336_12_2482/[ortho_analytic_8b_sr ortho_analytic_8b_xml ortho_udm2]\"},{\"message\":\"No access to assets: PSScene/20230215_094931_68_2262/[ortho_analytic_8b_sr ortho_analytic_8b_xml ortho_udm2]\"},{\"message\":\"No access to assets: PSScene/20230214_093105_92_2464/[ortho_analytic_8b_sr ortho_analytic_8b_xml ortho_udm2]\"},{\"message\":\"No access to assets: PSScene/20230211_100358_28_249d/[ortho_analytic_8b_sr ortho_analytic_8b_xml ortho_udm2]\"},{\"message\":\"No access to assets: PSScene/20230211_100355_98_249d/[ortho_analytic_8b_sr ortho_analytic_8b_xml ortho_udm2]\"},{\"message\":\"No access to assets: PSScene/20230210_100232_54_2484/[ortho_analytic_8b_sr ortho_analytic_8b_xml ortho_udm2]\"},{\"message\":\"No access to assets: PSScene/20230210_100230_26_2484/[ortho_analytic_8b_sr ortho_analytic_8b_xml ortho_udm2]\"},{\"message\":\"No access to assets: PSScene/20230210_092755_97_2465/[ortho_analytic_8b_sr ortho_analytic_8b_xml ortho_udm2]\"},{\"message\":\"No access to assets: PSScene/20230210_092753_78_2465/[ortho_analytic_8b_sr ortho_analytic_8b_xml ortho_udm2]\"},{\"message\":\"No access to assets: PSScene/20230209_100531_91_248b/[ortho_analytic_8b_sr ortho_analytic_8b_xml ortho_udm2]\"},{\"message\":\"No access to assets: PSScene/20230209_100416_81_247a/[ortho_analytic_8b_sr ortho_analytic_8b_xml ortho_udm2]\"},{\"message\":\"No access to assets: PSScene/20230207_100409_29_247b/[ortho_analytic_8b_sr ortho_analytic_8b_xml ortho_udm2]\"},{\"message\":\"No access to assets: PSScene/20230207_100407_01_247b/[ortho_analytic_8b_sr ortho_analytic_8b_xml ortho_udm2]\"},{\"message\":\"No access to assets: PSScene/20230203_091924_45_2445/[ortho_analytic_8b_sr ortho_analytic_8b_xml ortho_udm2]\"},{\"message\":\"No access to assets: PSScene/20230203_091922_10_2445/[ortho_analytic_8b_sr ortho_analytic_8b_xml ortho_udm2]\"},{\"message\":\"No access to assets: PSScene/20230203_100730_61_24a5/[ortho_analytic_8b_sr ortho_analytic_8b_xml ortho_udm2]\"},{\"message\":\"No access to assets: PSScene/20230203_100728_29_24a5/[ortho_analytic_8b_sr ortho_analytic_8b_xml ortho_udm2]\"},{\"message\":\"No access to assets: PSScene/20230131_100631_40_2473/[ortho_analytic_8b_sr ortho_analytic_8b_xml ortho_udm2]\"},{\"message\":\"No access to assets: PSScene/20230121_100355_74_2473/[ortho_analytic_8b_sr ortho_analytic_8b_xml ortho_udm2]\"},{\"message\":\"No access to assets: PSScene/20230121_100353_43_2473/[ortho_analytic_8b_sr ortho_analytic_8b_xml ortho_udm2]\"},{\"message\":\"No access to assets: PSScene/20230121_095051_47_225a/[ortho_analytic_8b_sr ortho_analytic_8b_xml ortho_udm2]\"},{\"message\":\"No access to assets: PSScene/20230110_100434_34_2486/[ortho_analytic_8b_sr ortho_analytic_8b_xml ortho_udm2]\"},{\"message\":\"No access to assets: PSScene/20230101_101302_29_2424/[ortho_analytic_8b_sr ortho_analytic_8b_xml ortho_udm2]\"},{\"message\":\"No access to assets: PSScene/20230101_101259_97_2424/[ortho_analytic_8b_sr ortho_analytic_8b_xml ortho_udm2]\"},{\"message\":\"No access to assets: PSScene/20230101_100432_29_2482/[ortho_analytic_8b_sr ortho_analytic_8b_xml ortho_udm2]\"},{\"message\":\"No access to assets: PSScene/20230101_100429_97_2482/[ortho_analytic_8b_sr ortho_analytic_8b_xml ortho_udm2]\"}]},\"general\":[{\"message\":\"Unable to accept order\"}]}\\n'",
     "output_type": "error",
     "traceback": [
      "\u001b[1;31m---------------------------------------------------------------------------\u001b[0m",
      "\u001b[1;31mAPIError\u001b[0m                                  Traceback (most recent call last)",
      "\u001b[1;32mc:\\Users\\Julia\\Desktop\\thesis\\remote_sensing\\download_images\\planetscope.ipynb Cell 5\u001b[0m in \u001b[0;36m1\n\u001b[1;32m----> <a href='vscode-notebook-cell:/c%3A/Users/Julia/Desktop/thesis/remote_sensing/download_images/planetscope.ipynb#W5sZmlsZQ%3D%3D?line=0'>1</a>\u001b[0m order_url \u001b[39m=\u001b[39m client\u001b[39m.\u001b[39;49mplace_order(order_name\u001b[39m=\u001b[39;49morder_name)\n",
      "File \u001b[1;32mc:\\Users\\Julia\\AppData\\Local\\Programs\\Python\\Python310\\lib\\site-packages\\eodal\\downloader\\planet_scope\\planet.py:380\u001b[0m, in \u001b[0;36mPlanetAPIClient.place_order\u001b[1;34m(self, order_name, product_bundle, processing_tools)\u001b[0m\n\u001b[0;32m    377\u001b[0m response \u001b[39m=\u001b[39m \u001b[39mself\u001b[39m\u001b[39m.\u001b[39msession\u001b[39m.\u001b[39mpost(orders_url, data\u001b[39m=\u001b[39morder_request_json, headers\u001b[39m=\u001b[39mheaders)\n\u001b[0;32m    379\u001b[0m \u001b[39mif\u001b[39;00m \u001b[39mnot\u001b[39;00m response\u001b[39m.\u001b[39mok:\n\u001b[1;32m--> 380\u001b[0m     \u001b[39mraise\u001b[39;00m APIError(\n\u001b[0;32m    381\u001b[0m         \u001b[39mf\u001b[39m\u001b[39m'\u001b[39m\u001b[39m[HTTP:\u001b[39m\u001b[39m{\u001b[39;00mresponse\u001b[39m.\u001b[39mstatus_code\u001b[39m}\u001b[39;00m\u001b[39m]: Placing order faild: \u001b[39m\u001b[39m{\u001b[39;00mresponse\u001b[39m.\u001b[39mcontent\u001b[39m}\u001b[39;00m\u001b[39m'\u001b[39m\n\u001b[0;32m    382\u001b[0m     )\n\u001b[0;32m    384\u001b[0m \u001b[39m# get order ID and return its URL\u001b[39;00m\n\u001b[0;32m    385\u001b[0m order_id \u001b[39m=\u001b[39m response\u001b[39m.\u001b[39mjson()[\u001b[39m'\u001b[39m\u001b[39mid\u001b[39m\u001b[39m'\u001b[39m]\n",
      "\u001b[1;31mAPIError\u001b[0m: [HTTP:400]: Placing order faild: b'{\"field\":{\"Details\":[{\"message\":\"No access to assets: PSScene/20230320_092653_18_241d/[ortho_analytic_8b_sr ortho_analytic_8b_xml ortho_udm2]\"},{\"message\":\"No access to assets: PSScene/20230320_092650_95_241d/[ortho_analytic_8b_sr ortho_analytic_8b_xml ortho_udm2]\"},{\"message\":\"No access to assets: PSScene/20230318_100613_58_247a/[ortho_analytic_8b_sr ortho_analytic_8b_xml ortho_udm2]\"},{\"message\":\"No access to assets: PSScene/20230318_100615_79_247a/[ortho_analytic_8b_sr ortho_analytic_8b_xml ortho_udm2]\"},{\"message\":\"No access to assets: PSScene/20230318_100828_06_2475/[ortho_analytic_8b_sr ortho_analytic_8b_xml ortho_udm2]\"},{\"message\":\"No access to assets: PSScene/20230318_100825_81_2475/[ortho_analytic_8b_sr ortho_analytic_8b_xml ortho_udm2]\"},{\"message\":\"No access to assets: PSScene/20230317_100337_88_2461/[ortho_analytic_8b_sr ortho_analytic_8b_xml ortho_udm2]\"},{\"message\":\"No access to assets: PSScene/20230316_100544_11_2438/[ortho_analytic_8b_sr ortho_analytic_8b_xml ortho_udm2]\"},{\"message\":\"No access to assets: PSScene/20230316_092858_57_2439/[ortho_analytic_8b_sr ortho_analytic_8b_xml ortho_udm2]\"},{\"message\":\"No access to assets: PSScene/20230315_093023_17_2429/[ortho_analytic_8b_sr ortho_analytic_8b_xml ortho_udm2]\"},{\"message\":\"No access to assets: PSScene/20230315_093025_35_2429/[ortho_analytic_8b_sr ortho_analytic_8b_xml ortho_udm2]\"},{\"message\":\"No access to assets: PSScene/20230313_101608_68_2414/[ortho_analytic_8b_sr ortho_analytic_8b_xml ortho_udm2]\"},{\"message\":\"No access to assets: PSScene/20230313_101610_74_2414/[ortho_analytic_8b_sr ortho_analytic_8b_xml ortho_udm2]\"},{\"message\":\"No access to assets: PSScene/20230307_092527_15_2451/[ortho_analytic_8b_sr ortho_analytic_8b_xml ortho_udm2]\"},{\"message\":\"No access to assets: PSScene/20230306_100709_73_24a3/[ortho_analytic_8b_sr ortho_analytic_8b_xml ortho_udm2]\"},{\"message\":\"No access to assets: PSScene/20230306_100711_93_24a3/[ortho_analytic_8b_sr ortho_analytic_8b_xml ortho_udm2]\"},{\"message\":\"No access to assets: PSScene/20230305_102354_85_2413/[ortho_analytic_8b_sr ortho_analytic_8b_xml ortho_udm2]\"},{\"message\":\"No access to assets: PSScene/20230304_100448_52_2485/[ortho_analytic_8b_sr ortho_analytic_8b_xml ortho_udm2]\"},{\"message\":\"No access to assets: PSScene/20230304_100450_73_2485/[ortho_analytic_8b_sr ortho_analytic_8b_xml ortho_udm2]\"},{\"message\":\"No access to assets: PSScene/20230304_095145_28_2251/[ortho_analytic_8b_sr ortho_analytic_8b_xml ortho_udm2]\"},{\"message\":\"No access to assets: PSScene/20230304_095143_24_2251/[ortho_analytic_8b_sr ortho_analytic_8b_xml ortho_udm2]\"},{\"message\":\"No access to assets: PSScene/20230219_101142_24_2424/[ortho_analytic_8b_sr ortho_analytic_8b_xml ortho_udm2]\"},{\"message\":\"No access to assets: PSScene/20230220_100552_38_2492/[ortho_analytic_8b_sr ortho_analytic_8b_xml ortho_udm2]\"},{\"message\":\"No access to assets: PSScene/20230220_100550_10_2492/[ortho_analytic_8b_sr ortho_analytic_8b_xml ortho_udm2]\"},{\"message\":\"No access to assets: PSScene/20230218_092733_88_2431/[ortho_analytic_8b_sr ortho_analytic_8b_xml ortho_udm2]\"},{\"message\":\"No access to assets: PSScene/20230216_100338_36_2482/[ortho_analytic_8b_sr ortho_analytic_8b_xml ortho_udm2]\"},{\"message\":\"No access to assets: PSScene/20230216_100336_12_2482/[ortho_analytic_8b_sr ortho_analytic_8b_xml ortho_udm2]\"},{\"message\":\"No access to assets: PSScene/20230215_094931_68_2262/[ortho_analytic_8b_sr ortho_analytic_8b_xml ortho_udm2]\"},{\"message\":\"No access to assets: PSScene/20230214_093105_92_2464/[ortho_analytic_8b_sr ortho_analytic_8b_xml ortho_udm2]\"},{\"message\":\"No access to assets: PSScene/20230211_100358_28_249d/[ortho_analytic_8b_sr ortho_analytic_8b_xml ortho_udm2]\"},{\"message\":\"No access to assets: PSScene/20230211_100355_98_249d/[ortho_analytic_8b_sr ortho_analytic_8b_xml ortho_udm2]\"},{\"message\":\"No access to assets: PSScene/20230210_100232_54_2484/[ortho_analytic_8b_sr ortho_analytic_8b_xml ortho_udm2]\"},{\"message\":\"No access to assets: PSScene/20230210_100230_26_2484/[ortho_analytic_8b_sr ortho_analytic_8b_xml ortho_udm2]\"},{\"message\":\"No access to assets: PSScene/20230210_092755_97_2465/[ortho_analytic_8b_sr ortho_analytic_8b_xml ortho_udm2]\"},{\"message\":\"No access to assets: PSScene/20230210_092753_78_2465/[ortho_analytic_8b_sr ortho_analytic_8b_xml ortho_udm2]\"},{\"message\":\"No access to assets: PSScene/20230209_100531_91_248b/[ortho_analytic_8b_sr ortho_analytic_8b_xml ortho_udm2]\"},{\"message\":\"No access to assets: PSScene/20230209_100416_81_247a/[ortho_analytic_8b_sr ortho_analytic_8b_xml ortho_udm2]\"},{\"message\":\"No access to assets: PSScene/20230207_100409_29_247b/[ortho_analytic_8b_sr ortho_analytic_8b_xml ortho_udm2]\"},{\"message\":\"No access to assets: PSScene/20230207_100407_01_247b/[ortho_analytic_8b_sr ortho_analytic_8b_xml ortho_udm2]\"},{\"message\":\"No access to assets: PSScene/20230203_091924_45_2445/[ortho_analytic_8b_sr ortho_analytic_8b_xml ortho_udm2]\"},{\"message\":\"No access to assets: PSScene/20230203_091922_10_2445/[ortho_analytic_8b_sr ortho_analytic_8b_xml ortho_udm2]\"},{\"message\":\"No access to assets: PSScene/20230203_100730_61_24a5/[ortho_analytic_8b_sr ortho_analytic_8b_xml ortho_udm2]\"},{\"message\":\"No access to assets: PSScene/20230203_100728_29_24a5/[ortho_analytic_8b_sr ortho_analytic_8b_xml ortho_udm2]\"},{\"message\":\"No access to assets: PSScene/20230131_100631_40_2473/[ortho_analytic_8b_sr ortho_analytic_8b_xml ortho_udm2]\"},{\"message\":\"No access to assets: PSScene/20230121_100355_74_2473/[ortho_analytic_8b_sr ortho_analytic_8b_xml ortho_udm2]\"},{\"message\":\"No access to assets: PSScene/20230121_100353_43_2473/[ortho_analytic_8b_sr ortho_analytic_8b_xml ortho_udm2]\"},{\"message\":\"No access to assets: PSScene/20230121_095051_47_225a/[ortho_analytic_8b_sr ortho_analytic_8b_xml ortho_udm2]\"},{\"message\":\"No access to assets: PSScene/20230110_100434_34_2486/[ortho_analytic_8b_sr ortho_analytic_8b_xml ortho_udm2]\"},{\"message\":\"No access to assets: PSScene/20230101_101302_29_2424/[ortho_analytic_8b_sr ortho_analytic_8b_xml ortho_udm2]\"},{\"message\":\"No access to assets: PSScene/20230101_101259_97_2424/[ortho_analytic_8b_sr ortho_analytic_8b_xml ortho_udm2]\"},{\"message\":\"No access to assets: PSScene/20230101_100432_29_2482/[ortho_analytic_8b_sr ortho_analytic_8b_xml ortho_udm2]\"},{\"message\":\"No access to assets: PSScene/20230101_100429_97_2482/[ortho_analytic_8b_sr ortho_analytic_8b_xml ortho_udm2]\"}]},\"general\":[{\"message\":\"Unable to accept order\"}]}\\n'"
     ]
    }
   ],
   "source": [
    "order_url = client.place_order(order_name=order_name)"
   ]
  }
 ],
 "metadata": {
  "kernelspec": {
   "display_name": "Python 3",
   "language": "python",
   "name": "python3"
  },
  "language_info": {
   "codemirror_mode": {
    "name": "ipython",
    "version": 3
   },
   "file_extension": ".py",
   "mimetype": "text/x-python",
   "name": "python",
   "nbconvert_exporter": "python",
   "pygments_lexer": "ipython3",
   "version": "3.10.10"
  },
  "orig_nbformat": 4
 },
 "nbformat": 4,
 "nbformat_minor": 2
}
